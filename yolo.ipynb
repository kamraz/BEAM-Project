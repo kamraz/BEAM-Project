{
 "cells": [
  {
   "cell_type": "code",
   "execution_count": 3,
   "metadata": {},
   "outputs": [
    {
     "name": "stderr",
     "output_type": "stream",
     "text": [
      "Using cache found in /Users/kamranzolfonoon/.cache/torch/hub/ultralytics_yolov3_master\n"
     ]
    },
    {
     "ename": "ModuleNotFoundError",
     "evalue": "No module named 'cv2'",
     "output_type": "error",
     "traceback": [
      "\u001b[0;31m---------------------------------------------------------------------------\u001b[0m",
      "\u001b[0;31mModuleNotFoundError\u001b[0m                       Traceback (most recent call last)",
      "\u001b[1;32m/Users/kamranzolfonoon/Dev/EagleProject/eaglescnn/yolo.ipynb Cell 1'\u001b[0m in \u001b[0;36m<cell line: 4>\u001b[0;34m()\u001b[0m\n\u001b[1;32m      <a href='vscode-notebook-cell:/Users/kamranzolfonoon/Dev/EagleProject/eaglescnn/yolo.ipynb#ch0000000?line=0'>1</a>\u001b[0m \u001b[39mimport\u001b[39;00m \u001b[39mtorch\u001b[39;00m\n\u001b[1;32m      <a href='vscode-notebook-cell:/Users/kamranzolfonoon/Dev/EagleProject/eaglescnn/yolo.ipynb#ch0000000?line=2'>3</a>\u001b[0m \u001b[39m# Model\u001b[39;00m\n\u001b[0;32m----> <a href='vscode-notebook-cell:/Users/kamranzolfonoon/Dev/EagleProject/eaglescnn/yolo.ipynb#ch0000000?line=3'>4</a>\u001b[0m model \u001b[39m=\u001b[39m torch\u001b[39m.\u001b[39;49mhub\u001b[39m.\u001b[39;49mload(\u001b[39m'\u001b[39;49m\u001b[39multralytics/yolov3\u001b[39;49m\u001b[39m'\u001b[39;49m, \u001b[39m'\u001b[39;49m\u001b[39myolov3\u001b[39;49m\u001b[39m'\u001b[39;49m)  \u001b[39m# or yolov3-spp, yolov3-tiny, custom\u001b[39;00m\n\u001b[1;32m      <a href='vscode-notebook-cell:/Users/kamranzolfonoon/Dev/EagleProject/eaglescnn/yolo.ipynb#ch0000000?line=5'>6</a>\u001b[0m \u001b[39m# Images\u001b[39;00m\n\u001b[1;32m      <a href='vscode-notebook-cell:/Users/kamranzolfonoon/Dev/EagleProject/eaglescnn/yolo.ipynb#ch0000000?line=6'>7</a>\u001b[0m img \u001b[39m=\u001b[39m \u001b[39m'\u001b[39m\u001b[39mhttps://ultralytics.com/images/zidane.jpg\u001b[39m\u001b[39m'\u001b[39m  \u001b[39m# or file, Path, PIL, OpenCV, numpy, list\u001b[39;00m\n",
      "File \u001b[0;32m~/anaconda3/envs/EaglesCNN/lib/python3.9/site-packages/torch/hub.py:540\u001b[0m, in \u001b[0;36mload\u001b[0;34m(repo_or_dir, model, source, trust_repo, force_reload, verbose, skip_validation, *args, **kwargs)\u001b[0m\n\u001b[1;32m    <a href='file:///Users/kamranzolfonoon/anaconda3/envs/EaglesCNN/lib/python3.9/site-packages/torch/hub.py?line=535'>536</a>\u001b[0m \u001b[39mif\u001b[39;00m source \u001b[39m==\u001b[39m \u001b[39m'\u001b[39m\u001b[39mgithub\u001b[39m\u001b[39m'\u001b[39m:\n\u001b[1;32m    <a href='file:///Users/kamranzolfonoon/anaconda3/envs/EaglesCNN/lib/python3.9/site-packages/torch/hub.py?line=536'>537</a>\u001b[0m     repo_or_dir \u001b[39m=\u001b[39m _get_cache_or_reload(repo_or_dir, force_reload, trust_repo, \u001b[39m\"\u001b[39m\u001b[39mload\u001b[39m\u001b[39m\"\u001b[39m,\n\u001b[1;32m    <a href='file:///Users/kamranzolfonoon/anaconda3/envs/EaglesCNN/lib/python3.9/site-packages/torch/hub.py?line=537'>538</a>\u001b[0m                                        verbose\u001b[39m=\u001b[39mverbose, skip_validation\u001b[39m=\u001b[39mskip_validation)\n\u001b[0;32m--> <a href='file:///Users/kamranzolfonoon/anaconda3/envs/EaglesCNN/lib/python3.9/site-packages/torch/hub.py?line=539'>540</a>\u001b[0m model \u001b[39m=\u001b[39m _load_local(repo_or_dir, model, \u001b[39m*\u001b[39;49margs, \u001b[39m*\u001b[39;49m\u001b[39m*\u001b[39;49mkwargs)\n\u001b[1;32m    <a href='file:///Users/kamranzolfonoon/anaconda3/envs/EaglesCNN/lib/python3.9/site-packages/torch/hub.py?line=540'>541</a>\u001b[0m \u001b[39mreturn\u001b[39;00m model\n",
      "File \u001b[0;32m~/anaconda3/envs/EaglesCNN/lib/python3.9/site-packages/torch/hub.py:569\u001b[0m, in \u001b[0;36m_load_local\u001b[0;34m(hubconf_dir, model, *args, **kwargs)\u001b[0m\n\u001b[1;32m    <a href='file:///Users/kamranzolfonoon/anaconda3/envs/EaglesCNN/lib/python3.9/site-packages/torch/hub.py?line=565'>566</a>\u001b[0m hub_module \u001b[39m=\u001b[39m _import_module(MODULE_HUBCONF, hubconf_path)\n\u001b[1;32m    <a href='file:///Users/kamranzolfonoon/anaconda3/envs/EaglesCNN/lib/python3.9/site-packages/torch/hub.py?line=567'>568</a>\u001b[0m entry \u001b[39m=\u001b[39m _load_entry_from_hubconf(hub_module, model)\n\u001b[0;32m--> <a href='file:///Users/kamranzolfonoon/anaconda3/envs/EaglesCNN/lib/python3.9/site-packages/torch/hub.py?line=568'>569</a>\u001b[0m model \u001b[39m=\u001b[39m entry(\u001b[39m*\u001b[39;49margs, \u001b[39m*\u001b[39;49m\u001b[39m*\u001b[39;49mkwargs)\n\u001b[1;32m    <a href='file:///Users/kamranzolfonoon/anaconda3/envs/EaglesCNN/lib/python3.9/site-packages/torch/hub.py?line=570'>571</a>\u001b[0m sys\u001b[39m.\u001b[39mpath\u001b[39m.\u001b[39mremove(hubconf_dir)\n\u001b[1;32m    <a href='file:///Users/kamranzolfonoon/anaconda3/envs/EaglesCNN/lib/python3.9/site-packages/torch/hub.py?line=572'>573</a>\u001b[0m \u001b[39mreturn\u001b[39;00m model\n",
      "File \u001b[0;32m~/.cache/torch/hub/ultralytics_yolov3_master/hubconf.py:74\u001b[0m, in \u001b[0;36myolov3\u001b[0;34m(pretrained, channels, classes, autoshape, verbose, device)\u001b[0m\n\u001b[1;32m     <a href='file:///Users/kamranzolfonoon/.cache/torch/hub/ultralytics_yolov3_master/hubconf.py?line=71'>72</a>\u001b[0m \u001b[39mdef\u001b[39;00m \u001b[39myolov3\u001b[39m(pretrained\u001b[39m=\u001b[39m\u001b[39mTrue\u001b[39;00m, channels\u001b[39m=\u001b[39m\u001b[39m3\u001b[39m, classes\u001b[39m=\u001b[39m\u001b[39m80\u001b[39m, autoshape\u001b[39m=\u001b[39m\u001b[39mTrue\u001b[39;00m, verbose\u001b[39m=\u001b[39m\u001b[39mTrue\u001b[39;00m, device\u001b[39m=\u001b[39m\u001b[39mNone\u001b[39;00m):\n\u001b[1;32m     <a href='file:///Users/kamranzolfonoon/.cache/torch/hub/ultralytics_yolov3_master/hubconf.py?line=72'>73</a>\u001b[0m     \u001b[39m# YOLOv3 model https://github.com/ultralytics/yolov3\u001b[39;00m\n\u001b[0;32m---> <a href='file:///Users/kamranzolfonoon/.cache/torch/hub/ultralytics_yolov3_master/hubconf.py?line=73'>74</a>\u001b[0m     \u001b[39mreturn\u001b[39;00m _create(\u001b[39m'\u001b[39;49m\u001b[39myolov3\u001b[39;49m\u001b[39m'\u001b[39;49m, pretrained, channels, classes, autoshape, verbose, device)\n",
      "File \u001b[0;32m~/.cache/torch/hub/ultralytics_yolov3_master/hubconf.py:30\u001b[0m, in \u001b[0;36m_create\u001b[0;34m(name, pretrained, channels, classes, autoshape, verbose, device)\u001b[0m\n\u001b[1;32m     <a href='file:///Users/kamranzolfonoon/.cache/torch/hub/ultralytics_yolov3_master/hubconf.py?line=13'>14</a>\u001b[0m \u001b[39m\"\"\"Creates a specified  model\u001b[39;00m\n\u001b[1;32m     <a href='file:///Users/kamranzolfonoon/.cache/torch/hub/ultralytics_yolov3_master/hubconf.py?line=14'>15</a>\u001b[0m \n\u001b[1;32m     <a href='file:///Users/kamranzolfonoon/.cache/torch/hub/ultralytics_yolov3_master/hubconf.py?line=15'>16</a>\u001b[0m \u001b[39mArguments:\u001b[39;00m\n\u001b[0;32m   (...)\u001b[0m\n\u001b[1;32m     <a href='file:///Users/kamranzolfonoon/.cache/torch/hub/ultralytics_yolov3_master/hubconf.py?line=25'>26</a>\u001b[0m \u001b[39m     pytorch model\u001b[39;00m\n\u001b[1;32m     <a href='file:///Users/kamranzolfonoon/.cache/torch/hub/ultralytics_yolov3_master/hubconf.py?line=26'>27</a>\u001b[0m \u001b[39m\"\"\"\u001b[39;00m\n\u001b[1;32m     <a href='file:///Users/kamranzolfonoon/.cache/torch/hub/ultralytics_yolov3_master/hubconf.py?line=27'>28</a>\u001b[0m \u001b[39mfrom\u001b[39;00m \u001b[39mpathlib\u001b[39;00m \u001b[39mimport\u001b[39;00m Path\n\u001b[0;32m---> <a href='file:///Users/kamranzolfonoon/.cache/torch/hub/ultralytics_yolov3_master/hubconf.py?line=29'>30</a>\u001b[0m \u001b[39mfrom\u001b[39;00m \u001b[39mmodels\u001b[39;00m\u001b[39m.\u001b[39;00m\u001b[39mexperimental\u001b[39;00m \u001b[39mimport\u001b[39;00m attempt_load\n\u001b[1;32m     <a href='file:///Users/kamranzolfonoon/.cache/torch/hub/ultralytics_yolov3_master/hubconf.py?line=30'>31</a>\u001b[0m \u001b[39mfrom\u001b[39;00m \u001b[39mmodels\u001b[39;00m\u001b[39m.\u001b[39;00m\u001b[39myolo\u001b[39;00m \u001b[39mimport\u001b[39;00m Model\n\u001b[1;32m     <a href='file:///Users/kamranzolfonoon/.cache/torch/hub/ultralytics_yolov3_master/hubconf.py?line=31'>32</a>\u001b[0m \u001b[39mfrom\u001b[39;00m \u001b[39mutils\u001b[39;00m\u001b[39m.\u001b[39;00m\u001b[39mdownloads\u001b[39;00m \u001b[39mimport\u001b[39;00m attempt_download\n",
      "File \u001b[0;32m~/.cache/torch/hub/ultralytics_yolov3_master/models/experimental.py:11\u001b[0m, in \u001b[0;36m<module>\u001b[0;34m\u001b[0m\n\u001b[1;32m      <a href='file:///Users/kamranzolfonoon/.cache/torch/hub/ultralytics_yolov3_master/models/experimental.py?line=7'>8</a>\u001b[0m \u001b[39mimport\u001b[39;00m \u001b[39mtorch\u001b[39;00m\n\u001b[1;32m      <a href='file:///Users/kamranzolfonoon/.cache/torch/hub/ultralytics_yolov3_master/models/experimental.py?line=8'>9</a>\u001b[0m \u001b[39mimport\u001b[39;00m \u001b[39mtorch\u001b[39;00m\u001b[39m.\u001b[39;00m\u001b[39mnn\u001b[39;00m \u001b[39mas\u001b[39;00m \u001b[39mnn\u001b[39;00m\n\u001b[0;32m---> <a href='file:///Users/kamranzolfonoon/.cache/torch/hub/ultralytics_yolov3_master/models/experimental.py?line=10'>11</a>\u001b[0m \u001b[39mfrom\u001b[39;00m \u001b[39mmodels\u001b[39;00m\u001b[39m.\u001b[39;00m\u001b[39mcommon\u001b[39;00m \u001b[39mimport\u001b[39;00m Conv\n\u001b[1;32m     <a href='file:///Users/kamranzolfonoon/.cache/torch/hub/ultralytics_yolov3_master/models/experimental.py?line=11'>12</a>\u001b[0m \u001b[39mfrom\u001b[39;00m \u001b[39mutils\u001b[39;00m\u001b[39m.\u001b[39;00m\u001b[39mdownloads\u001b[39;00m \u001b[39mimport\u001b[39;00m attempt_download\n\u001b[1;32m     <a href='file:///Users/kamranzolfonoon/.cache/torch/hub/ultralytics_yolov3_master/models/experimental.py?line=14'>15</a>\u001b[0m \u001b[39mclass\u001b[39;00m \u001b[39mCrossConv\u001b[39;00m(nn\u001b[39m.\u001b[39mModule):\n\u001b[1;32m     <a href='file:///Users/kamranzolfonoon/.cache/torch/hub/ultralytics_yolov3_master/models/experimental.py?line=15'>16</a>\u001b[0m     \u001b[39m# Cross Convolution Downsample\u001b[39;00m\n",
      "File \u001b[0;32m~/.cache/torch/hub/ultralytics_yolov3_master/models/common.py:13\u001b[0m, in \u001b[0;36m<module>\u001b[0;34m\u001b[0m\n\u001b[1;32m     <a href='file:///Users/kamranzolfonoon/.cache/torch/hub/ultralytics_yolov3_master/models/common.py?line=9'>10</a>\u001b[0m \u001b[39mfrom\u001b[39;00m \u001b[39mcopy\u001b[39;00m \u001b[39mimport\u001b[39;00m copy\n\u001b[1;32m     <a href='file:///Users/kamranzolfonoon/.cache/torch/hub/ultralytics_yolov3_master/models/common.py?line=10'>11</a>\u001b[0m \u001b[39mfrom\u001b[39;00m \u001b[39mpathlib\u001b[39;00m \u001b[39mimport\u001b[39;00m Path\n\u001b[0;32m---> <a href='file:///Users/kamranzolfonoon/.cache/torch/hub/ultralytics_yolov3_master/models/common.py?line=12'>13</a>\u001b[0m \u001b[39mimport\u001b[39;00m \u001b[39mcv2\u001b[39;00m\n\u001b[1;32m     <a href='file:///Users/kamranzolfonoon/.cache/torch/hub/ultralytics_yolov3_master/models/common.py?line=13'>14</a>\u001b[0m \u001b[39mimport\u001b[39;00m \u001b[39mnumpy\u001b[39;00m \u001b[39mas\u001b[39;00m \u001b[39mnp\u001b[39;00m\n\u001b[1;32m     <a href='file:///Users/kamranzolfonoon/.cache/torch/hub/ultralytics_yolov3_master/models/common.py?line=14'>15</a>\u001b[0m \u001b[39mimport\u001b[39;00m \u001b[39mpandas\u001b[39;00m \u001b[39mas\u001b[39;00m \u001b[39mpd\u001b[39;00m\n",
      "\u001b[0;31mModuleNotFoundError\u001b[0m: No module named 'cv2'"
     ]
    }
   ],
   "source": [
    "import torch\n",
    "\n",
    "# Model\n",
    "model = torch.hub.load('ultralytics/yolov3', 'yolov3')  # or yolov3-spp, yolov3-tiny, custom\n",
    "\n",
    "# Images\n",
    "img = 'https://ultralytics.com/images/zidane.jpg'  # or file, Path, PIL, OpenCV, numpy, list\n",
    "\n",
    "# Inference\n",
    "results = model(img)\n",
    "\n",
    "# Results\n",
    "results.print()"
   ]
  }
 ],
 "metadata": {
  "interpreter": {
   "hash": "827ad0588f2b9223c03ec3ff0b54d57105849ec0fc3cdd736e5228dae4e5b259"
  },
  "kernelspec": {
   "display_name": "Python 3.9.12 ('EaglesCNN')",
   "language": "python",
   "name": "python3"
  },
  "language_info": {
   "codemirror_mode": {
    "name": "ipython",
    "version": 3
   },
   "file_extension": ".py",
   "mimetype": "text/x-python",
   "name": "python",
   "nbconvert_exporter": "python",
   "pygments_lexer": "ipython3",
   "version": "3.9.12"
  },
  "orig_nbformat": 4
 },
 "nbformat": 4,
 "nbformat_minor": 2
}
