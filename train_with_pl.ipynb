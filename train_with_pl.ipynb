{
 "cells": [
  {
   "cell_type": "code",
   "execution_count": 1,
   "metadata": {},
   "outputs": [
    {
     "name": "stderr",
     "output_type": "stream",
     "text": [
      "/opt/conda/envs/eagles/lib/python3.9/site-packages/tqdm/auto.py:22: TqdmWarning: IProgress not found. Please update jupyter and ipywidgets. See https://ipywidgets.readthedocs.io/en/stable/user_install.html\n",
      "  from .autonotebook import tqdm as notebook_tqdm\n"
     ]
    }
   ],
   "source": [
    "from lightning import LitCNN\n",
    "from utils.transforms import get_transform\n",
    "from datasets import BeamDataset, collate_fn\n",
    "\n",
    "from torch.utils import data as torch_data\n",
    "from pytorch_lightning import Trainer\n",
    "import math\n",
    "import copy"
   ]
  },
  {
   "cell_type": "code",
   "execution_count": 2,
   "metadata": {},
   "outputs": [
    {
     "data": {
      "text/html": [
       "\n",
       "      <iframe id=\"tensorboard-frame-f792e4c6c18bb2f3\" width=\"100%\" height=\"800\" frameborder=\"0\">\n",
       "      </iframe>\n",
       "      <script>\n",
       "        (function() {\n",
       "          const frame = document.getElementById(\"tensorboard-frame-f792e4c6c18bb2f3\");\n",
       "          const url = new URL(\"/proxy/6006/\", window.location);\n",
       "          const port = 0;\n",
       "          if (port) {\n",
       "            url.port = port;\n",
       "          }\n",
       "          frame.src = url;\n",
       "        })();\n",
       "      </script>\n",
       "    "
      ],
      "text/plain": [
       "<IPython.core.display.HTML object>"
      ]
     },
     "metadata": {},
     "output_type": "display_data"
    }
   ],
   "source": [
    "# ssh -N -f -L localhost:16006:localhost:6006 kamranzolfonoon@35.203.109.50\n",
    "%load_ext tensorboard\n",
    "%tensorboard --logdir lightning_logs/ --port 6006"
   ]
  },
  {
   "cell_type": "code",
   "execution_count": 3,
   "metadata": {},
   "outputs": [],
   "source": [
    "dataset = BeamDataset(\"/home/kamranzolfonoon/dev/eagle-images/beam_large_batch\", \"/home/kamranzolfonoon/dev/eagle-images/beam_large_batch/annotations/annotations.json\", get_transform(train=True))\n",
    "\n",
    "# TODO: Remove jitter transform from test dataset\n",
    "train_dataset = torch_data.Subset(dataset, range(0, math.floor(len(dataset) * 0.8)))\n",
    "test_dataset = torch_data.Subset(dataset, range(math.floor(len(dataset) * 0.8), len(dataset)))\n",
    "test_dataset.dataset = copy.deepcopy(test_dataset.dataset)\n",
    "test_dataset.dataset.transforms = get_transform(train=False)\n",
    "\n",
    "train_loader = torch_data.DataLoader(train_dataset, batch_size=4, shuffle=True, num_workers=1, collate_fn=collate_fn)\n",
    "test_loader = torch_data.DataLoader(test_dataset, batch_size=4, shuffle=False, num_workers=1, collate_fn=collate_fn)"
   ]
  },
  {
   "cell_type": "code",
   "execution_count": 4,
   "metadata": {},
   "outputs": [],
   "source": [
    "# num_classes = 4\n",
    "\n",
    "# model_name = \"fasterrcnn_resnet50_fpn_v2\"\n",
    "\n",
    "# model_params = {\n",
    "#     \"num_classes\": num_classes,\n",
    "#     \"pretrained\": True,\n",
    "#     \"frozen\": False\n",
    "# }\n",
    "\n",
    "# optimizer_name = \"SGD\"\n",
    "\n",
    "# optimizer_params = {\n",
    "#     \"lr\": 0.005,\n",
    "#     \"momentum\": 0.9,\n",
    "#     \"weight_decay\": 0.0005\n",
    "# }\n",
    "\n",
    "# scheduler_name = \"StepLR\"\n",
    "\n",
    "# scheduler_params = {\n",
    "#     \"step_size\": 10,\n",
    "#     \"gamma\": 0.1\n",
    "# }\n",
    "\n",
    "num_classes = 4\n",
    "\n",
    "model_name = \"fasterrcnn_resnet50_fpn_v2\"\n",
    "\n",
    "model_params = {\n",
    "    \"num_classes\": num_classes,\n",
    "    \"pretrained\": True,\n",
    "    \"frozen\": False\n",
    "}\n",
    "\n",
    "optimizer_name = \"SGD\"\n",
    "\n",
    "optimizer_params = {\n",
    "    \"lr\": 0.005,\n",
    "    \"momentum\": 0.9,\n",
    "    \"weight_decay\": 0.0005\n",
    "}\n",
    "\n",
    "scheduler_name = \"MultiStepLR\"\n",
    "\n",
    "scheduler_params = {\n",
    "    \"milestones\": [10, 20],\n",
    "    \"gamma\": 0.1\n",
    "}\n",
    "\n",
    "model = LitCNN(model_name, model_params, optimizer_name, optimizer_params, scheduler_name, scheduler_params)"
   ]
  },
  {
   "cell_type": "code",
   "execution_count": 5,
   "metadata": {},
   "outputs": [
    {
     "name": "stderr",
     "output_type": "stream",
     "text": [
      "GPU available: True (cuda), used: True\n",
      "TPU available: False, using: 0 TPU cores\n",
      "IPU available: False, using: 0 IPUs\n",
      "HPU available: False, using: 0 HPUs\n",
      "LOCAL_RANK: 0 - CUDA_VISIBLE_DEVICES: [0]\n",
      "\n",
      "  | Name           | Type                 | Params\n",
      "--------------------------------------------------------\n",
      "0 | model          | FasterRCNN           | 41.3 M\n",
      "1 | validation_map | MeanAveragePrecision | 0     \n",
      "--------------------------------------------------------\n",
      "41.1 M    Trainable params\n",
      "222 K     Non-trainable params\n",
      "41.3 M    Total params\n",
      "165.258   Total estimated model params size (MB)\n"
     ]
    },
    {
     "name": "stdout",
     "output_type": "stream",
     "text": [
      "Epoch 0:   1%|          | 1/148 [00:01<03:20,  1.36s/it]                   "
     ]
    },
    {
     "name": "stderr",
     "output_type": "stream",
     "text": [
      "/opt/conda/envs/eagles/lib/python3.9/site-packages/pytorch_lightning/utilities/data.py:85: UserWarning: Trying to infer the `batch_size` from an ambiguous collection. The batch size we found is 3. To avoid any miscalculations, use `self.log(..., batch_size=batch_size)`.\n",
      "  warning_cache.warn(\n"
     ]
    },
    {
     "name": "stdout",
     "output_type": "stream",
     "text": [
      "Epoch 5:  78%|███████▊  | 116/148 [02:21<00:38,  1.22s/it, loss=0.233, v_num=14]"
     ]
    }
   ],
   "source": [
    "trainer = Trainer(accelerator='gpu', devices=1, max_epochs=30)\n",
    "trainer.fit(model, train_loader, test_loader)"
   ]
  },
  {
   "cell_type": "code",
   "execution_count": null,
   "metadata": {},
   "outputs": [
    {
     "name": "stderr",
     "output_type": "stream",
     "text": [
      "/tmp/ipykernel_18523/1111890060.py:28: UserWarning: To copy construct from a tensor, it is recommended to use sourceTensor.clone().detach() or sourceTensor.clone().detach().requires_grad_(True), rather than torch.tensor(sourceTensor).\n",
      "  prediction = draw_bounding_boxes(torch.tensor(img*255,dtype=torch.uint8), boxes=boxes,\n",
      "/tmp/ipykernel_18523/1111890060.py:43: UserWarning: To copy construct from a tensor, it is recommended to use sourceTensor.clone().detach() or sourceTensor.clone().detach().requires_grad_(True), rather than torch.tensor(sourceTensor).\n",
      "  ground_truth = draw_bounding_boxes(torch.tensor(img*255,dtype=torch.uint8), boxes=boxes,\n"
     ]
    }
   ],
   "source": [
    "import torch\n",
    "from torchvision.utils import draw_bounding_boxes\n",
    "from torchvision.transforms.functional import to_pil_image\n",
    "from utils.visualization import visualize_image\n",
    "\n",
    "# If checkpoint is saved, load it:\n",
    "# model = LitCNN.load_from_checkpoint('/home/kamranzolfonoon/dev/eaglescnn/lightning_logs/version_0/checkpoints/epoch=29-step=3540.ckpt')\n",
    "# good example: 12, 59\n",
    "# tricky: 5, 80, 89, 31, 57\n",
    "img, target = test_dataset[59]\n",
    "visualize_image(model,img,target, \"prediction.png\", \"labels.png\")\n",
    "\n",
    "\n"
   ]
  }
 ],
 "metadata": {
  "kernelspec": {
   "display_name": "Python 3.9.13 ('eagles')",
   "language": "python",
   "name": "python3"
  },
  "language_info": {
   "codemirror_mode": {
    "name": "ipython",
    "version": 3
   },
   "file_extension": ".py",
   "mimetype": "text/x-python",
   "name": "python",
   "nbconvert_exporter": "python",
   "pygments_lexer": "ipython3",
   "version": "3.9.13"
  },
  "orig_nbformat": 4,
  "vscode": {
   "interpreter": {
    "hash": "0925fae0ace981ccb72920df887c03553dc37f40775dd20c5d03ad1279f2cb4f"
   }
  }
 },
 "nbformat": 4,
 "nbformat_minor": 2
}
