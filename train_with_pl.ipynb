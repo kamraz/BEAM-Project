{
 "cells": [
  {
   "cell_type": "code",
   "execution_count": 1,
   "metadata": {},
   "outputs": [
    {
     "name": "stderr",
     "output_type": "stream",
     "text": [
      "/opt/conda/envs/eagles/lib/python3.9/site-packages/tqdm/auto.py:22: TqdmWarning: IProgress not found. Please update jupyter and ipywidgets. See https://ipywidgets.readthedocs.io/en/stable/user_install.html\n",
      "  from .autonotebook import tqdm as notebook_tqdm\n"
     ]
    }
   ],
   "source": [
    "from lightning import LitCNN\n",
    "from utils.transforms import get_transform\n",
    "from datasets import BeamDataset, collate_fn\n",
    "\n",
    "from torch.utils import data as torch_data\n",
    "from pytorch_lightning import Trainer\n",
    "import math\n",
    "import copy"
   ]
  },
  {
   "cell_type": "code",
   "execution_count": 2,
   "metadata": {},
   "outputs": [
    {
     "data": {
      "text/html": [
       "\n",
       "      <iframe id=\"tensorboard-frame-ddfab30847df22c5\" width=\"100%\" height=\"800\" frameborder=\"0\">\n",
       "      </iframe>\n",
       "      <script>\n",
       "        (function() {\n",
       "          const frame = document.getElementById(\"tensorboard-frame-ddfab30847df22c5\");\n",
       "          const url = new URL(\"/proxy/6006/\", window.location);\n",
       "          const port = 0;\n",
       "          if (port) {\n",
       "            url.port = port;\n",
       "          }\n",
       "          frame.src = url;\n",
       "        })();\n",
       "      </script>\n",
       "    "
      ],
      "text/plain": [
       "<IPython.core.display.HTML object>"
      ]
     },
     "metadata": {},
     "output_type": "display_data"
    }
   ],
   "source": [
    "# ssh -N -f -L localhost:16006:localhost:6006 kamranzolfonoon@35.203.109.50\n",
    "%load_ext tensorboard\n",
    "%tensorboard --logdir lightning_logs/ --port 6006"
   ]
  },
  {
   "cell_type": "code",
   "execution_count": 2,
   "metadata": {},
   "outputs": [],
   "source": [
    "dataset = BeamDataset(\"/home/kamranzolfonoon/dev/eagle-images/beam_large_batch\", \"/home/kamranzolfonoon/dev/eagle-images/beam_large_batch/annotations/annotations.json\", get_transform(train=True))\n",
    "\n",
    "train_dataset = torch_data.Subset(dataset, range(0, math.floor(len(dataset) * 0.8)))\n",
    "test_dataset = torch_data.Subset(dataset, range(math.floor(len(dataset) * 0.8), len(dataset)))\n",
    "\n",
    "# Janky code to remove training transforms from test dataset\n",
    "test_dataset.dataset = copy.deepcopy(test_dataset.dataset)\n",
    "test_dataset.dataset.transforms = get_transform(train=False)\n",
    "\n",
    "train_loader = torch_data.DataLoader(train_dataset, batch_size=4, shuffle=True, num_workers=1, collate_fn=collate_fn)\n",
    "test_loader = torch_data.DataLoader(test_dataset, batch_size=4, shuffle=False, num_workers=1, collate_fn=collate_fn)"
   ]
  },
  {
   "cell_type": "code",
   "execution_count": 3,
   "metadata": {},
   "outputs": [],
   "source": [
    "num_classes = 4\n",
    "\n",
    "model_name = \"fasterrcnn_resnet50_fpn_v2\"\n",
    "\n",
    "model_params = {\n",
    "    \"num_classes\": num_classes,\n",
    "    \"pretrained\": True,\n",
    "    \"frozen\": False\n",
    "}\n",
    "\n",
    "optimizer_name = \"SGD\"\n",
    "\n",
    "optimizer_params = {\n",
    "    \"lr\": 0.005,\n",
    "    \"momentum\": 0.9,\n",
    "    \"weight_decay\": 0.0005\n",
    "}\n",
    "\n",
    "scheduler_name = \"StepLR\"\n",
    "\n",
    "scheduler_params = {\n",
    "    \"step_size\": 9,\n",
    "    \"gamma\": 0.1\n",
    "}\n",
    "\n",
    "model = LitCNN(model_name, model_params, optimizer_name, optimizer_params, scheduler_name, scheduler_params)"
   ]
  },
  {
   "cell_type": "code",
   "execution_count": 5,
   "metadata": {},
   "outputs": [
    {
     "name": "stderr",
     "output_type": "stream",
     "text": [
      "GPU available: True (cuda), used: True\n",
      "TPU available: False, using: 0 TPU cores\n",
      "IPU available: False, using: 0 IPUs\n",
      "HPU available: False, using: 0 HPUs\n",
      "LOCAL_RANK: 0 - CUDA_VISIBLE_DEVICES: [0]\n",
      "\n",
      "  | Name           | Type                 | Params\n",
      "--------------------------------------------------------\n",
      "0 | model          | FasterRCNN           | 41.3 M\n",
      "1 | validation_map | MeanAveragePrecision | 0     \n",
      "2 | test_map       | MeanAveragePrecision | 0     \n",
      "--------------------------------------------------------\n",
      "41.1 M    Trainable params\n",
      "222 K     Non-trainable params\n",
      "41.3 M    Total params\n",
      "165.258   Total estimated model params size (MB)\n"
     ]
    },
    {
     "name": "stdout",
     "output_type": "stream",
     "text": [
      "Epoch 0:   0%|          | 1/294 [00:01<05:07,  1.05s/it]                   "
     ]
    },
    {
     "name": "stderr",
     "output_type": "stream",
     "text": [
      "/opt/conda/envs/eagles/lib/python3.9/site-packages/pytorch_lightning/utilities/data.py:85: UserWarning: Trying to infer the `batch_size` from an ambiguous collection. The batch size we found is 3. To avoid any miscalculations, use `self.log(..., batch_size=batch_size)`.\n",
      "  warning_cache.warn(\n"
     ]
    },
    {
     "name": "stdout",
     "output_type": "stream",
     "text": [
      "Epoch 49: 100%|██████████| 294/294 [06:42<00:00,  1.37s/it, loss=0.153, v_num=22]"
     ]
    },
    {
     "name": "stderr",
     "output_type": "stream",
     "text": [
      "`Trainer.fit` stopped: `max_epochs=50` reached.\n"
     ]
    },
    {
     "name": "stdout",
     "output_type": "stream",
     "text": [
      "Epoch 49: 100%|██████████| 294/294 [06:43<00:00,  1.37s/it, loss=0.153, v_num=22]\n"
     ]
    }
   ],
   "source": [
    "trainer = Trainer(accelerator='gpu', devices=1, max_epochs=40)\n",
    "trainer.fit(model, train_loader, test_loader)\n",
    "trainer.test(model, test_loader)"
   ]
  },
  {
   "cell_type": "code",
   "execution_count": 81,
   "metadata": {},
   "outputs": [],
   "source": [
    "from utils.visualization import visualize_image\n",
    "\n",
    "# If checkpoint is saved, load it:\n",
    "# model = LitCNN.load_from_checkpoint('/home/kamranzolfonoon/dev/eaglescnn/lightning_logs/version_26/checkpoints/epoch=39-step=4720.ckpt')\n",
    "# good example: 12, 59\n",
    "# tricky: 5, 80, 89, 31, 57\n",
    "img, target = test_dataset[90]\n",
    "visualize_image(model,img,target, \"prediction.png\", \"labels.png\", threshold=0.80)\n"
   ]
  },
  {
   "cell_type": "code",
   "execution_count": 6,
   "metadata": {},
   "outputs": [
    {
     "name": "stderr",
     "output_type": "stream",
     "text": [
      "GPU available: True (cuda), used: True\n",
      "TPU available: False, using: 0 TPU cores\n",
      "IPU available: False, using: 0 IPUs\n",
      "HPU available: False, using: 0 HPUs\n",
      "LOCAL_RANK: 0 - CUDA_VISIBLE_DEVICES: [0]\n"
     ]
    },
    {
     "name": "stdout",
     "output_type": "stream",
     "text": [
      "Testing DataLoader 0: 100%|██████████| 30/30 [00:19<00:00,  1.54it/s]\n",
      "────────────────────────────────────────────────────────────────────────────────────────────────────────────────────────\n",
      "       Test metric             DataLoader 0\n",
      "────────────────────────────────────────────────────────────────────────────────────────────────────────────────────────\n",
      "         test_ar            0.6134477853775024\n",
      "        test_map            0.41561588644981384\n",
      "   test_map_Background      0.24669022858142853\n",
      "  test_map_Eagle_Adult      0.6959711313247681\n",
      "  test_map_Eagle_Chick      0.45358043909072876\n",
      " test_map_Eagle_Juvenile    0.26622170209884644\n",
      "      test_map_Food         0.24669022858142853\n",
      "────────────────────────────────────────────────────────────────────────────────────────────────────────────────────────\n"
     ]
    },
    {
     "data": {
      "text/plain": [
       "[{'test_map': 0.41561588644981384,\n",
       "  'test_ar': 0.6134477853775024,\n",
       "  'test_map_Background': 0.24669022858142853,\n",
       "  'test_map_Eagle_Adult': 0.6959711313247681,\n",
       "  'test_map_Eagle_Chick': 0.45358043909072876,\n",
       "  'test_map_Eagle_Juvenile': 0.26622170209884644,\n",
       "  'test_map_Food': 0.24669022858142853}]"
      ]
     },
     "execution_count": 6,
     "metadata": {},
     "output_type": "execute_result"
    }
   ],
   "source": [
    "# test on full dataset\n",
    "# model = LitCNN.load_from_checkpoint('/home/kamranzolfonoon/dev/eaglescnn/lightning_logs/version_26/checkpoints/epoch=39-step=4720.ckpt')\n",
    "full_dataset = BeamDataset(\"/home/kamranzolfonoon/dev/eagle-images/beam_large_batch\", \"/home/kamranzolfonoon/dev/eagle-images/beam_large_batch/annotations/annotations.json\", get_transform(train=False))\n",
    "full_test_loader = torch_data.DataLoader(full_dataset, batch_size=4, shuffle=False, num_workers=1, collate_fn=collate_fn)\n",
    "trainer = Trainer(accelerator='gpu', devices=1, max_epochs=40)\n",
    "trainer.test(model, full_test_loader)"
   ]
  }
 ],
 "metadata": {
  "kernelspec": {
   "display_name": "Python 3.9.13 ('eagles')",
   "language": "python",
   "name": "python3"
  },
  "language_info": {
   "codemirror_mode": {
    "name": "ipython",
    "version": 3
   },
   "file_extension": ".py",
   "mimetype": "text/x-python",
   "name": "python",
   "nbconvert_exporter": "python",
   "pygments_lexer": "ipython3",
   "version": "3.9.13"
  },
  "orig_nbformat": 4,
  "vscode": {
   "interpreter": {
    "hash": "0925fae0ace981ccb72920df887c03553dc37f40775dd20c5d03ad1279f2cb4f"
   }
  }
 },
 "nbformat": 4,
 "nbformat_minor": 2
}
