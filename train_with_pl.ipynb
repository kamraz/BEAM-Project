{
 "cells": [
  {
   "cell_type": "code",
   "execution_count": 1,
   "metadata": {},
   "outputs": [
    {
     "name": "stderr",
     "output_type": "stream",
     "text": [
      "/opt/conda/envs/eagles/lib/python3.9/site-packages/tqdm/auto.py:22: TqdmWarning: IProgress not found. Please update jupyter and ipywidgets. See https://ipywidgets.readthedocs.io/en/stable/user_install.html\n",
      "  from .autonotebook import tqdm as notebook_tqdm\n"
     ]
    }
   ],
   "source": [
    "from lightning import LitCNN\n",
    "from utils.transforms import get_transform\n",
    "from datasets import SmallDataset\n",
    "from utils.all import collate_fn\n",
    "\n",
    "from torch.utils import data as torch_data\n",
    "from pytorch_lightning import Trainer\n",
    "import math"
   ]
  },
  {
   "cell_type": "code",
   "execution_count": 3,
   "metadata": {},
   "outputs": [],
   "source": [
    "dataset = SmallDataset(\"/home/kamranzolfonoon/eagle-test-bucket\", \"/home/kamranzolfonoon/eagle-test-bucket/image_labels.json\", get_transform(train=False))\n",
    "\n",
    "# make training and test subsets\n",
    "train_dataset = torch_data.Subset(dataset, range(0, math.floor(len(dataset) * 0.8)))\n",
    "test_dataset = torch_data.Subset(dataset, range(math.floor(len(dataset) * 0.8), len(dataset)))\n",
    "\n",
    "train_loader = torch_data.DataLoader(train_dataset, batch_size=2, shuffle=True, num_workers=1, collate_fn=collate_fn)\n",
    "test_loader = torch_data.DataLoader(test_dataset, batch_size=2, shuffle=False, num_workers=1, collate_fn=collate_fn)"
   ]
  },
  {
   "cell_type": "code",
   "execution_count": 4,
   "metadata": {},
   "outputs": [],
   "source": [
    "num_classes = 5\n",
    "\n",
    "model_name = \"fasterrcnn_resnet50_fpn\"\n",
    "\n",
    "model_params = {\n",
    "    \"num_classes\": num_classes,\n",
    "    \"pretrained\": True,\n",
    "}\n",
    "\n",
    "optimizer_name = \"SGD\"\n",
    "\n",
    "optimizer_params = {\n",
    "    \"lr\": 0.005,\n",
    "    \"momentum\": 0.9,\n",
    "    \"weight_decay\": 0.0005\n",
    "}\n",
    "\n",
    "scheduler_name = \"StepLR\"\n",
    "\n",
    "scheduler_params = {\n",
    "    \"step_size\": 3,\n",
    "    \"gamma\": 0.1\n",
    "}\n",
    "\n",
    "model = LitCNN(model_name, model_params, optimizer_name, optimizer_params, scheduler_name, scheduler_params)"
   ]
  },
  {
   "cell_type": "code",
   "execution_count": 5,
   "metadata": {},
   "outputs": [
    {
     "name": "stderr",
     "output_type": "stream",
     "text": [
      "GPU available: True (cuda), used: True\n",
      "TPU available: False, using: 0 TPU cores\n",
      "IPU available: False, using: 0 IPUs\n",
      "HPU available: False, using: 0 HPUs\n",
      "LOCAL_RANK: 0 - CUDA_VISIBLE_DEVICES: [0]\n",
      "\n",
      "  | Name           | Type                 | Params\n",
      "--------------------------------------------------------\n",
      "0 | model          | FasterRCNN           | 41.3 M\n",
      "1 | validation_map | MeanAveragePrecision | 0     \n",
      "--------------------------------------------------------\n",
      "41.1 M    Trainable params\n",
      "222 K     Non-trainable params\n",
      "41.3 M    Total params\n",
      "165.279   Total estimated model params size (MB)\n"
     ]
    },
    {
     "name": "stdout",
     "output_type": "stream",
     "text": [
      "Epoch 0:   0%|          | 1/213 [00:01<04:05,  1.16s/it]                   "
     ]
    },
    {
     "name": "stderr",
     "output_type": "stream",
     "text": [
      "/opt/conda/envs/eagles/lib/python3.9/site-packages/pytorch_lightning/utilities/data.py:85: UserWarning: Trying to infer the `batch_size` from an ambiguous collection. The batch size we found is 3. To avoid any miscalculations, use `self.log(..., batch_size=batch_size)`.\n",
      "  warning_cache.warn(\n"
     ]
    },
    {
     "name": "stdout",
     "output_type": "stream",
     "text": [
      "Epoch 9: 100%|██████████| 213/213 [02:37<00:00,  1.36it/s, loss=0.177, v_num=9]"
     ]
    },
    {
     "name": "stderr",
     "output_type": "stream",
     "text": [
      "`Trainer.fit` stopped: `max_epochs=10` reached.\n"
     ]
    },
    {
     "name": "stdout",
     "output_type": "stream",
     "text": [
      "Epoch 9: 100%|██████████| 213/213 [02:37<00:00,  1.35it/s, loss=0.177, v_num=9]\n"
     ]
    }
   ],
   "source": [
    "trainer = Trainer(accelerator='gpu', devices=1, max_epochs=10)\n",
    "trainer.fit(model, train_loader, test_loader)"
   ]
  },
  {
   "cell_type": "code",
   "execution_count": 7,
   "metadata": {},
   "outputs": [
    {
     "name": "stdout",
     "output_type": "stream",
     "text": [
      "{'boxes': tensor([[ 522.1272,  293.6823, 1064.8353,  608.2513],\n",
      "        [ 926.9366,  531.7065, 1050.3904,  634.7882],\n",
      "        [ 605.9943,  326.5846,  913.5837,  632.2736],\n",
      "        [ 499.9795,  382.9930,  851.3989,  585.8462],\n",
      "        [ 751.8423,  279.9420, 1077.9779,  555.9315],\n",
      "        [ 912.1270,  526.3420, 1049.3314,  659.8940],\n",
      "        [ 904.7017,  513.7091, 1077.1487,  662.5357],\n",
      "        [ 922.1845,  529.6198, 1048.3032,  646.1857],\n",
      "        [ 937.6730,  528.9470, 1048.4519,  643.4232],\n",
      "        [ 484.1858,  424.9400,  615.2008,  525.5369],\n",
      "        [ 392.4153,  125.6479, 1133.2517,  633.2710]], device='cuda:0',\n",
      "       grad_fn=<StackBackward0>), 'labels': tensor([1, 3, 1, 1, 1, 2, 3, 1, 5, 2, 1], device='cuda:0'), 'scores': tensor([0.9698, 0.6684, 0.5959, 0.4007, 0.3138, 0.2013, 0.1884, 0.1263, 0.0639,\n",
      "        0.0546, 0.0520], device='cuda:0', grad_fn=<IndexBackward0>)}\n"
     ]
    },
    {
     "name": "stderr",
     "output_type": "stream",
     "text": [
      "/tmp/ipykernel_6317/3039149141.py:21: UserWarning: To copy construct from a tensor, it is recommended to use sourceTensor.clone().detach() or sourceTensor.clone().detach().requires_grad_(True), rather than torch.tensor(sourceTensor).\n",
      "  box = draw_bounding_boxes(torch.tensor(img*255,dtype=torch.uint8), boxes=boxes,\n"
     ]
    }
   ],
   "source": [
    "import torch\n",
    "from torchvision.utils import draw_bounding_boxes\n",
    "from torchvision.transforms.functional import to_pil_image\n",
    "\n",
    "device = torch.device('cuda') if torch.cuda.is_available() else torch.device('cpu')\n",
    "model.to(device)\n",
    "\n",
    "model.eval()\n",
    "img, target = test_dataset[50]\n",
    "img_cuda = img.to(device)\n",
    "prediction = model([img_cuda])[0]\n",
    "labels = []\n",
    "boxes = []\n",
    "print(prediction)\n",
    "for i in range(len(prediction[\"labels\"])):\n",
    "    if prediction[\"scores\"][i] > 0.5:\n",
    "        labels.append(str(prediction[\"labels\"][i].item()) + \" \" + str(round(prediction[\"scores\"][i].item(), 3)))\n",
    "        boxes.append(prediction[\"boxes\"][i].cpu())\n",
    "boxes = torch.stack(boxes)\n",
    "\n",
    "box = draw_bounding_boxes(torch.tensor(img*255,dtype=torch.uint8), boxes=boxes,\n",
    "                        labels=labels,\n",
    "                        colors=\"red\",\n",
    "                        width=4) \n",
    "im = to_pil_image(box.detach())\n",
    "im.save(\"test.png\")"
   ]
  },
  {
   "cell_type": "code",
   "execution_count": 2,
   "metadata": {},
   "outputs": [
    {
     "data": {
      "text/html": [
       "\n",
       "      <iframe id=\"tensorboard-frame-9e7d586fe5139b2c\" width=\"100%\" height=\"800\" frameborder=\"0\">\n",
       "      </iframe>\n",
       "      <script>\n",
       "        (function() {\n",
       "          const frame = document.getElementById(\"tensorboard-frame-9e7d586fe5139b2c\");\n",
       "          const url = new URL(\"/proxy/6006/\", window.location);\n",
       "          const port = 0;\n",
       "          if (port) {\n",
       "            url.port = port;\n",
       "          }\n",
       "          frame.src = url;\n",
       "        })();\n",
       "      </script>\n",
       "    "
      ],
      "text/plain": [
       "<IPython.core.display.HTML object>"
      ]
     },
     "metadata": {},
     "output_type": "display_data"
    }
   ],
   "source": [
    "# ssh -N -f -L localhost:16006:localhost:6006 kamranzolfonoon@35.203.109.50\n",
    "%load_ext tensorboard\n",
    "%tensorboard --logdir lightning_logs/ --port 6006"
   ]
  }
 ],
 "metadata": {
  "kernelspec": {
   "display_name": "Python 3.9.13 ('eagles')",
   "language": "python",
   "name": "python3"
  },
  "language_info": {
   "codemirror_mode": {
    "name": "ipython",
    "version": 3
   },
   "file_extension": ".py",
   "mimetype": "text/x-python",
   "name": "python",
   "nbconvert_exporter": "python",
   "pygments_lexer": "ipython3",
   "version": "3.9.13"
  },
  "orig_nbformat": 4,
  "vscode": {
   "interpreter": {
    "hash": "0925fae0ace981ccb72920df887c03553dc37f40775dd20c5d03ad1279f2cb4f"
   }
  }
 },
 "nbformat": 4,
 "nbformat_minor": 2
}
