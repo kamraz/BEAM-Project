{
 "cells": [
  {
   "cell_type": "code",
   "execution_count": 1,
   "metadata": {},
   "outputs": [
    {
     "name": "stderr",
     "output_type": "stream",
     "text": [
      "/opt/conda/envs/eagles/lib/python3.9/site-packages/tqdm/auto.py:22: TqdmWarning: IProgress not found. Please update jupyter and ipywidgets. See https://ipywidgets.readthedocs.io/en/stable/user_install.html\n",
      "  from .autonotebook import tqdm as notebook_tqdm\n"
     ]
    }
   ],
   "source": [
    "from lightning import LitCNN\n",
    "from utils.transforms import get_transform\n",
    "from datasets import SmallDataset\n",
    "from utils.all import collate_fn\n",
    "\n",
    "from torch.utils import data as torch_data\n",
    "from pytorch_lightning import Trainer\n",
    "import math"
   ]
  },
  {
   "cell_type": "code",
   "execution_count": 2,
   "metadata": {},
   "outputs": [
    {
     "data": {
      "text/html": [
       "\n",
       "      <iframe id=\"tensorboard-frame-1709c6975ef2e205\" width=\"100%\" height=\"800\" frameborder=\"0\">\n",
       "      </iframe>\n",
       "      <script>\n",
       "        (function() {\n",
       "          const frame = document.getElementById(\"tensorboard-frame-1709c6975ef2e205\");\n",
       "          const url = new URL(\"/proxy/6006/\", window.location);\n",
       "          const port = 0;\n",
       "          if (port) {\n",
       "            url.port = port;\n",
       "          }\n",
       "          frame.src = url;\n",
       "        })();\n",
       "      </script>\n",
       "    "
      ],
      "text/plain": [
       "<IPython.core.display.HTML object>"
      ]
     },
     "metadata": {},
     "output_type": "display_data"
    }
   ],
   "source": [
    "# ssh -N -f -L localhost:16006:localhost:6006 kamranzolfonoon@35.203.109.50\n",
    "%load_ext tensorboard\n",
    "%tensorboard --logdir lightning_logs/ --port 6006"
   ]
  },
  {
   "cell_type": "code",
   "execution_count": 3,
   "metadata": {},
   "outputs": [],
   "source": [
    "dataset = SmallDataset(\"/home/kamranzolfonoon/eagle-test-bucket\", \"/home/kamranzolfonoon/eagle-test-bucket/image_labels.json\", get_transform(train=True))\n",
    "\n",
    "# make training and test subsets\n",
    "train_dataset = torch_data.Subset(dataset, range(0, math.floor(len(dataset) * 0.8)))\n",
    "test_dataset = torch_data.Subset(dataset, range(math.floor(len(dataset) * 0.8), len(dataset)))\n",
    "\n",
    "train_loader = torch_data.DataLoader(train_dataset, batch_size=2, shuffle=True, num_workers=1, collate_fn=collate_fn)\n",
    "test_loader = torch_data.DataLoader(test_dataset, batch_size=2, shuffle=False, num_workers=1, collate_fn=collate_fn)"
   ]
  },
  {
   "cell_type": "code",
   "execution_count": 6,
   "metadata": {},
   "outputs": [],
   "source": [
    "num_classes = 5\n",
    "\n",
    "model_name = \"fasterrcnn_resnet50_fpn\"\n",
    "\n",
    "model_params = {\n",
    "    \"num_classes\": num_classes,\n",
    "    \"pretrained\": True,\n",
    "    \"frozen\": True\n",
    "}\n",
    "\n",
    "optimizer_name = \"SGD\"\n",
    "\n",
    "optimizer_params = {\n",
    "    \"lr\": 0.005,\n",
    "    \"momentum\": 0.9,\n",
    "    # \"weight_decay\": 0.0005\n",
    "    \"weight_decay\": 0.0005\n",
    "}\n",
    "\n",
    "scheduler_name = \"StepLR\"\n",
    "\n",
    "scheduler_params = {\n",
    "    \"step_size\": 5,\n",
    "    \"gamma\": 0.1\n",
    "}\n",
    "\n",
    "model = LitCNN(model_name, model_params, optimizer_name, optimizer_params, scheduler_name, scheduler_params)"
   ]
  },
  {
   "cell_type": "code",
   "execution_count": 9,
   "metadata": {},
   "outputs": [
    {
     "name": "stdout",
     "output_type": "stream",
     "text": [
      "True\n",
      "True\n",
      "True\n",
      "True\n",
      "True\n",
      "True\n",
      "True\n",
      "True\n",
      "True\n",
      "True\n",
      "True\n",
      "True\n",
      "True\n",
      "True\n",
      "True\n",
      "True\n",
      "True\n",
      "True\n",
      "True\n",
      "True\n",
      "True\n",
      "True\n",
      "True\n",
      "True\n",
      "True\n",
      "True\n",
      "True\n",
      "True\n",
      "True\n",
      "True\n",
      "True\n",
      "True\n",
      "True\n",
      "True\n",
      "True\n",
      "True\n",
      "True\n",
      "True\n",
      "True\n",
      "True\n",
      "True\n",
      "True\n",
      "True\n",
      "True\n",
      "True\n",
      "True\n",
      "True\n",
      "True\n",
      "True\n",
      "True\n",
      "True\n",
      "True\n",
      "True\n",
      "True\n",
      "True\n",
      "True\n",
      "True\n",
      "True\n",
      "True\n",
      "True\n",
      "True\n",
      "True\n",
      "True\n",
      "True\n",
      "True\n",
      "True\n",
      "True\n",
      "True\n",
      "True\n",
      "True\n",
      "True\n",
      "True\n"
     ]
    }
   ],
   "source": [
    "for p in model.model.parameters():\n",
    "    if p.requires_grad:\n",
    "        print(p.requires_grad)"
   ]
  },
  {
   "cell_type": "code",
   "execution_count": 5,
   "metadata": {},
   "outputs": [
    {
     "name": "stderr",
     "output_type": "stream",
     "text": [
      "GPU available: True (cuda), used: True\n",
      "TPU available: False, using: 0 TPU cores\n",
      "IPU available: False, using: 0 IPUs\n",
      "HPU available: False, using: 0 HPUs\n",
      "LOCAL_RANK: 0 - CUDA_VISIBLE_DEVICES: [0]\n",
      "\n",
      "  | Name           | Type                 | Params\n",
      "--------------------------------------------------------\n",
      "0 | model          | FasterRCNN           | 41.3 M\n",
      "1 | validation_map | MeanAveragePrecision | 0     \n",
      "--------------------------------------------------------\n",
      "41.1 M    Trainable params\n",
      "222 K     Non-trainable params\n",
      "41.3 M    Total params\n",
      "165.279   Total estimated model params size (MB)\n"
     ]
    },
    {
     "name": "stdout",
     "output_type": "stream",
     "text": [
      "Epoch 0:   0%|          | 1/213 [00:00<01:35,  2.22it/s]                   "
     ]
    },
    {
     "name": "stderr",
     "output_type": "stream",
     "text": [
      "/opt/conda/envs/eagles/lib/python3.9/site-packages/pytorch_lightning/utilities/data.py:85: UserWarning: Trying to infer the `batch_size` from an ambiguous collection. The batch size we found is 3. To avoid any miscalculations, use `self.log(..., batch_size=batch_size)`.\n",
      "  warning_cache.warn(\n"
     ]
    },
    {
     "name": "stdout",
     "output_type": "stream",
     "text": [
      "Epoch 16:  20%|█▉        | 42/213 [00:26<01:49,  1.57it/s, loss=0.149, v_num=14] "
     ]
    },
    {
     "name": "stderr",
     "output_type": "stream",
     "text": [
      "/opt/conda/envs/eagles/lib/python3.9/site-packages/pytorch_lightning/trainer/call.py:48: UserWarning: Detected KeyboardInterrupt, attempting graceful shutdown...\n",
      "  rank_zero_warn(\"Detected KeyboardInterrupt, attempting graceful shutdown...\")\n"
     ]
    }
   ],
   "source": [
    "trainer = Trainer(accelerator='gpu', devices=1, max_epochs=30)\n",
    "trainer.fit(model, train_loader, test_loader)"
   ]
  },
  {
   "cell_type": "code",
   "execution_count": null,
   "metadata": {},
   "outputs": [
    {
     "name": "stdout",
     "output_type": "stream",
     "text": [
      "{'boxes': tensor([[ 598.0652,  289.6666, 1055.9954,  598.5243],\n",
      "        [ 471.4936,  426.0192,  610.3322,  526.6890],\n",
      "        [ 908.2181,  535.2910, 1045.5083,  636.7701],\n",
      "        [1037.4296,  258.6445, 1223.5970,  519.7628]], device='cuda:0',\n",
      "       grad_fn=<StackBackward0>), 'labels': tensor([1, 2, 3, 1], device='cuda:0'), 'scores': tensor([0.9985, 0.9974, 0.9931, 0.9866], device='cuda:0',\n",
      "       grad_fn=<IndexBackward0>)}\n"
     ]
    },
    {
     "name": "stderr",
     "output_type": "stream",
     "text": [
      "/tmp/ipykernel_922/634587109.py:21: UserWarning: To copy construct from a tensor, it is recommended to use sourceTensor.clone().detach() or sourceTensor.clone().detach().requires_grad_(True), rather than torch.tensor(sourceTensor).\n",
      "  box = draw_bounding_boxes(torch.tensor(img*255,dtype=torch.uint8), boxes=boxes,\n"
     ]
    }
   ],
   "source": [
    "import torch\n",
    "from torchvision.utils import draw_bounding_boxes\n",
    "from torchvision.transforms.functional import to_pil_image\n",
    "\n",
    "device = torch.device('cuda') if torch.cuda.is_available() else torch.device('cpu')\n",
    "model.to(device)\n",
    "\n",
    "model.eval()\n",
    "img, target = test_dataset[43]\n",
    "img_cuda = img.to(device)\n",
    "prediction = model([img_cuda])[0]\n",
    "labels = []\n",
    "boxes = []\n",
    "print(prediction)\n",
    "for i in range(len(prediction[\"labels\"])):\n",
    "    if prediction[\"scores\"][i] > 0.5:\n",
    "        labels.append(str(prediction[\"labels\"][i].item()) + \" \" + str(round(prediction[\"scores\"][i].item(), 3)))\n",
    "        boxes.append(prediction[\"boxes\"][i].cpu())\n",
    "boxes = torch.stack(boxes)\n",
    "\n",
    "box = draw_bounding_boxes(torch.tensor(img*255,dtype=torch.uint8), boxes=boxes,\n",
    "                        labels=labels,\n",
    "                        colors=\"red\",\n",
    "                        width=4,\n",
    "                        font_size=100) \n",
    "im = to_pil_image(box.detach())\n",
    "im.save(\"test.png\")"
   ]
  }
 ],
 "metadata": {
  "kernelspec": {
   "display_name": "Python 3.9.13 ('eagles')",
   "language": "python",
   "name": "python3"
  },
  "language_info": {
   "codemirror_mode": {
    "name": "ipython",
    "version": 3
   },
   "file_extension": ".py",
   "mimetype": "text/x-python",
   "name": "python",
   "nbconvert_exporter": "python",
   "pygments_lexer": "ipython3",
   "version": "3.9.13"
  },
  "orig_nbformat": 4,
  "vscode": {
   "interpreter": {
    "hash": "0925fae0ace981ccb72920df887c03553dc37f40775dd20c5d03ad1279f2cb4f"
   }
  }
 },
 "nbformat": 4,
 "nbformat_minor": 2
}
