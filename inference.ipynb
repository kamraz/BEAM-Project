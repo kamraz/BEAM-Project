{
 "cells": [
  {
   "cell_type": "code",
   "execution_count": null,
   "metadata": {},
   "outputs": [],
   "source": [
    "from lightning import LitCNN\n",
    "from utils.visualization import visualize_image\n",
    "from utils.transforms import get_transform\n",
    "\n",
    "from PIL import Image"
   ]
  },
  {
   "cell_type": "code",
   "execution_count": null,
   "metadata": {},
   "outputs": [],
   "source": [
    "# Use full path!\n",
    "model_checkpoint = \"/home/kamranzolfonoon/dev/eaglescnn/lightning_logs/version_4/checkpoints/epoch=14-step=1770.ckpt\"\n",
    "model = LitCNN.load_from_checkpoint(model_checkpoint)"
   ]
  },
  {
   "cell_type": "code",
   "execution_count": null,
   "metadata": {},
   "outputs": [],
   "source": [
    "img_path = \"/home/kamranzolfonoon/dev/eagle-images/beam_large_batch/National Arboretum B_2022_05_11_02_58_42.png\"\n",
    "output_path = \"prediction.png\"\n",
    "\n",
    "transforms = get_transform(train=False)\n",
    "image,_ = transforms(Image.open(img_path).convert(\"RGB\"), {})\n",
    "\n",
    "\n",
    "visualize_image(model, image, output_path, threshold=0.80)"
   ]
  }
 ],
 "metadata": {
  "kernelspec": {
   "display_name": "Python 3.9.13 ('eagles')",
   "language": "python",
   "name": "python3"
  },
  "language_info": {
   "codemirror_mode": {
    "name": "ipython",
    "version": 3
   },
   "file_extension": ".py",
   "mimetype": "text/x-python",
   "name": "python",
   "nbconvert_exporter": "python",
   "pygments_lexer": "ipython3",
   "version": "3.9.13"
  },
  "orig_nbformat": 4,
  "vscode": {
   "interpreter": {
    "hash": "0925fae0ace981ccb72920df887c03553dc37f40775dd20c5d03ad1279f2cb4f"
   }
  }
 },
 "nbformat": 4,
 "nbformat_minor": 2
}
