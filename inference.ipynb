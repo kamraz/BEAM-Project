{
 "cells": [
  {
   "cell_type": "code",
   "execution_count": 1,
   "metadata": {},
   "outputs": [
    {
     "name": "stderr",
     "output_type": "stream",
     "text": [
      "/opt/conda/envs/eagles/lib/python3.9/site-packages/tqdm/auto.py:22: TqdmWarning: IProgress not found. Please update jupyter and ipywidgets. See https://ipywidgets.readthedocs.io/en/stable/user_install.html\n",
      "  from .autonotebook import tqdm as notebook_tqdm\n"
     ]
    }
   ],
   "source": [
    "from lightning import LitCNN\n",
    "from utils.visualization import visualize_images\n",
    "from utils.transforms import get_transform\n",
    "\n",
    "from PIL import Image"
   ]
  },
  {
   "cell_type": "code",
   "execution_count": 2,
   "metadata": {},
   "outputs": [],
   "source": [
    "# Config\n",
    "# Use full path!\n",
    "model_checkpoint = \"/home/kamranzolfonoon/dev/eaglescnn/lightning_logs/version_0/checkpoints/epoch=29-step=3540.ckpt\"\n",
    "img_path = \"/home/kamranzolfonoon/dev/eagle-images/beam_large_batch/National Arboretum B_2022_05_15_00_02_56.png\"\n",
    "output_path = \"prediction.png\""
   ]
  },
  {
   "cell_type": "code",
   "execution_count": 3,
   "metadata": {},
   "outputs": [
    {
     "name": "stderr",
     "output_type": "stream",
     "text": [
      "/home/kamranzolfonoon/dev/eaglescnn/utils/visualization.py:39: UserWarning: To copy construct from a tensor, it is recommended to use sourceTensor.clone().detach() or sourceTensor.clone().detach().requires_grad_(True), rather than torch.tensor(sourceTensor).\n",
      "  torch.tensor(img * 255, dtype=torch.uint8),\n",
      "/opt/conda/envs/eagles/lib/python3.9/site-packages/torchvision/utils.py:215: UserWarning: boxes doesn't contain any box. No box was drawn\n",
      "  warnings.warn(\"boxes doesn't contain any box. No box was drawn\")\n"
     ]
    }
   ],
   "source": [
    "model = LitCNN.load_from_checkpoint(model_checkpoint)\n",
    "transforms = get_transform(train=False)\n",
    "image,_ = transforms(Image.open(img_path).convert(\"RGB\"), {})\n",
    "\n",
    "\n",
    "visualize_images(model, image, output_path)"
   ]
  }
 ],
 "metadata": {
  "kernelspec": {
   "display_name": "Python 3.9.13 ('eagles')",
   "language": "python",
   "name": "python3"
  },
  "language_info": {
   "codemirror_mode": {
    "name": "ipython",
    "version": 3
   },
   "file_extension": ".py",
   "mimetype": "text/x-python",
   "name": "python",
   "nbconvert_exporter": "python",
   "pygments_lexer": "ipython3",
   "version": "3.9.13"
  },
  "orig_nbformat": 4,
  "vscode": {
   "interpreter": {
    "hash": "0925fae0ace981ccb72920df887c03553dc37f40775dd20c5d03ad1279f2cb4f"
   }
  }
 },
 "nbformat": 4,
 "nbformat_minor": 2
}
